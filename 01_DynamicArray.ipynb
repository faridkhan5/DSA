{
  "nbformat": 4,
  "nbformat_minor": 0,
  "metadata": {
    "colab": {
      "provenance": []
    },
    "kernelspec": {
      "name": "python3",
      "display_name": "Python 3"
    },
    "language_info": {
      "name": "python"
    }
  },
  "cells": [
    {
      "cell_type": "markdown",
      "source": [
        "***Methods:***\n",
        "1. create list\n",
        "2. `len`\n",
        "3. `append`\n",
        "4. `print`\n",
        "5. `indexing`\n",
        "6. `pop`\n",
        "7. `clear`\n",
        "8. `find`\n",
        "9. `insert`\n",
        "10. `delete`\n",
        "11. `remove`"
      ],
      "metadata": {
        "id": "R-Kw9x2odGPR"
      }
    },
    {
      "cell_type": "code",
      "execution_count": null,
      "metadata": {
        "id": "vg0fk52y5AD2"
      },
      "outputs": [],
      "source": [
        "import ctypes"
      ]
    },
    {
      "cell_type": "code",
      "source": [
        "class DynamicArray:\n",
        "  def __init__(self):\n",
        "    self.size = 1 #total space\n",
        "    self.n = 0 #occupied space\n",
        "    #create a Ctype arr with size = self.size\n",
        "    self.A = self.__make_array(self.size)\n",
        "\n",
        "\n",
        "  ### Base methods\n",
        "  def __resize(self, new_capacity):\n",
        "    #create new arr with new capacity\n",
        "    B = self.__make_array(new_capacity)\n",
        "    self.size = new_capacity\n",
        "    #copy contents of A to B\n",
        "    for i in range(self.n):\n",
        "      B[i] = self.A[i]\n",
        "    #reassign A\n",
        "      # - B is only used for resizing\n",
        "      # - A is used for major methods\n",
        "    self.A = B\n",
        "\n",
        "  def __make_array(self, capacity):\n",
        "    #creates a Ctype static array with size = capacity\n",
        "    return(capacity*ctypes.py_object)()\n",
        "  #---------------------------------------------------------------------------------------\n",
        "\n",
        "\n",
        "  ### Manipulation methods\n",
        "  def append(self, item):\n",
        "    #check for vacancy\n",
        "    if self.n == self.size:\n",
        "      #resize\n",
        "      self.__resize(self.size*2)\n",
        "    #append\n",
        "    self.A[self.n] = item\n",
        "    self.n = self.n + 1\n",
        "\n",
        "  def pop(self):\n",
        "    if self.n == 0:\n",
        "      return 'Empty list'\n",
        "    self.n = self.n - 1\n",
        "\n",
        "  def clear(self):\n",
        "    #recreate initial state\n",
        "    self.n = 0\n",
        "    self.size = 1\n",
        "\n",
        "  def find(self, item):\n",
        "    for i in range(self.n):\n",
        "      if self.A[i] == item:\n",
        "        return i\n",
        "    return 'ValueError - item not in list'\n",
        "\n",
        "  def insert(self, pos, item):\n",
        "    #space check\n",
        "    if self.n == self.size:\n",
        "      self.__resize(self.size*2)\n",
        "    #loop through items in the -ve direction\n",
        "    for i in range(self.n, pos, -1):\n",
        "      #move curr items to next idx to free idx at pos\n",
        "      self.A[i] = self.A[i-1]\n",
        "    self.A[pos] = item\n",
        "    self.n = self.n + 1\n",
        "\n",
        "  def remove(self, item):\n",
        "    pos = self.find(item)\n",
        "    if type(pos) == int:\n",
        "      self.__delitem__(pos)\n",
        "    else:\n",
        "      return pos\n",
        "  #---------------------------------------------------------------------------------------\n",
        "\n",
        "\n",
        "  ### Magic Methods\n",
        "  def __len__(self):\n",
        "    return self.n\n",
        "\n",
        "  def __str__(self):\n",
        "    result = ''\n",
        "    for i in range(self.n):\n",
        "      result = result + str(self.A[i]) + ', '\n",
        "\n",
        "    return '[' + result[:-2] + ']'\n",
        "\n",
        "  def __getitem__(self, index):\n",
        "    if 0 <= index < self.n:\n",
        "      return self.A[index]\n",
        "    return 'IndexError - index out of range'\n",
        "\n",
        "  def __delitem__(self, pos):\n",
        "    if 0 <= pos <= self.n:\n",
        "      for i in range(pos, self.n-1):\n",
        "        self.A[i] = self.A[i+1]\n",
        "      #ignore the last item\n",
        "      self.n = self.n - 1\n",
        "  #---------------------------------------------------------------------------------------"
      ],
      "metadata": {
        "id": "oRQUpB2o5LsY"
      },
      "execution_count": null,
      "outputs": []
    },
    {
      "cell_type": "code",
      "source": [
        "arr = DynamicArray()"
      ],
      "metadata": {
        "id": "B3C9akl96OY2"
      },
      "execution_count": null,
      "outputs": []
    },
    {
      "cell_type": "code",
      "source": [
        "len(arr), arr.n, arr.size"
      ],
      "metadata": {
        "colab": {
          "base_uri": "https://localhost:8080/"
        },
        "id": "xIiiR6u_8MRj",
        "outputId": "06f8664a-14e6-44e1-d8ba-81b897d2ca3c"
      },
      "execution_count": null,
      "outputs": [
        {
          "output_type": "execute_result",
          "data": {
            "text/plain": [
              "(0, 0, 1)"
            ]
          },
          "metadata": {},
          "execution_count": 86
        }
      ]
    },
    {
      "cell_type": "code",
      "source": [
        "print('len | occupied | total')\n",
        "\n",
        "arr.append(1200)\n",
        "print(len(arr), arr.n, arr.size)\n",
        "\n",
        "arr.append(2.2)\n",
        "print(len(arr), arr.n, arr.size)\n",
        "\n",
        "arr.append('a')\n",
        "print(len(arr), arr.n, arr.size)\n",
        "\n",
        "arr.append('hello')\n",
        "print(len(arr), arr.n, arr.size)"
      ],
      "metadata": {
        "colab": {
          "base_uri": "https://localhost:8080/"
        },
        "id": "lLlKg24B8FfU",
        "outputId": "bd840ded-9059-4412-ca20-593b433a6af1"
      },
      "execution_count": null,
      "outputs": [
        {
          "output_type": "stream",
          "name": "stdout",
          "text": [
            "len | occupied | total\n",
            "1 1 1\n",
            "2 2 2\n",
            "3 3 4\n",
            "4 4 4\n"
          ]
        }
      ]
    },
    {
      "cell_type": "code",
      "source": [
        "print(arr)"
      ],
      "metadata": {
        "colab": {
          "base_uri": "https://localhost:8080/"
        },
        "id": "kBe4gDkL-zDS",
        "outputId": "d9773003-d21f-492b-f4ac-7129ba88c32e"
      },
      "execution_count": null,
      "outputs": [
        {
          "output_type": "stream",
          "name": "stdout",
          "text": [
            "[1200, 2.2, a, hello]\n"
          ]
        }
      ]
    },
    {
      "cell_type": "code",
      "source": [
        "print(arr[1])\n",
        "print(arr[20])"
      ],
      "metadata": {
        "id": "0VG5GP5vqCvM",
        "colab": {
          "base_uri": "https://localhost:8080/"
        },
        "outputId": "ced90365-758e-43c5-8e24-b6096545218f"
      },
      "execution_count": null,
      "outputs": [
        {
          "output_type": "stream",
          "name": "stdout",
          "text": [
            "2.2\n",
            "IndexError - index out of range\n"
          ]
        }
      ]
    },
    {
      "cell_type": "code",
      "source": [
        "arr.pop()\n",
        "print(arr)"
      ],
      "metadata": {
        "colab": {
          "base_uri": "https://localhost:8080/"
        },
        "id": "aUvY5kcIbPL2",
        "outputId": "59f11bca-990d-4c1f-83e7-b15d8cfd6c7e"
      },
      "execution_count": null,
      "outputs": [
        {
          "output_type": "stream",
          "name": "stdout",
          "text": [
            "[1200, 2.2, a]\n"
          ]
        }
      ]
    },
    {
      "cell_type": "code",
      "source": [
        "# arr.clear()\n",
        "# print(arr)"
      ],
      "metadata": {
        "id": "wbaBYM32fXJ7"
      },
      "execution_count": null,
      "outputs": []
    },
    {
      "cell_type": "code",
      "source": [
        "print(arr.find(1200))\n",
        "print(arr.find('a'))\n",
        "print(arr.find(3))"
      ],
      "metadata": {
        "colab": {
          "base_uri": "https://localhost:8080/"
        },
        "id": "aW_RN1RgjqYa",
        "outputId": "06e6ce47-daa7-4d8e-f3f3-0a518050d8c0"
      },
      "execution_count": null,
      "outputs": [
        {
          "output_type": "stream",
          "name": "stdout",
          "text": [
            "0\n",
            "2\n",
            "ValueError - item not in list\n"
          ]
        }
      ]
    },
    {
      "cell_type": "code",
      "source": [
        "arr.insert(3, 33)\n",
        "arr.insert(1, 42)\n",
        "arr.insert(4, 'capital')\n",
        "arr.insert(3, 'railway')\n",
        "arr.insert(0, 2.12)\n",
        "print(arr)"
      ],
      "metadata": {
        "id": "COU28iuUk-cu",
        "colab": {
          "base_uri": "https://localhost:8080/"
        },
        "outputId": "69356401-41d1-4535-99d2-e0e9e5b9908b"
      },
      "execution_count": null,
      "outputs": [
        {
          "output_type": "stream",
          "name": "stdout",
          "text": [
            "[2.12, 1200, 42, 2.2, railway, a, capital, 33]\n"
          ]
        }
      ]
    },
    {
      "cell_type": "code",
      "source": [
        "#deletes val at given idx\n",
        "del arr[2]\n",
        "print(arr)"
      ],
      "metadata": {
        "colab": {
          "base_uri": "https://localhost:8080/"
        },
        "id": "ThJy3u4EBC5Z",
        "outputId": "e92fd53c-18cf-4b99-b708-384e4dd884c7"
      },
      "execution_count": null,
      "outputs": [
        {
          "output_type": "stream",
          "name": "stdout",
          "text": [
            "[2.12, 1200, 2.2, railway, a, capital, 33]\n"
          ]
        }
      ]
    },
    {
      "cell_type": "code",
      "source": [
        "#removes the 1st occurence of the given val\n",
        "arr.remove(2.2)\n",
        "print(arr)"
      ],
      "metadata": {
        "colab": {
          "base_uri": "https://localhost:8080/"
        },
        "id": "d16kC6jODf52",
        "outputId": "00278220-396c-4cbb-d08b-e3313bfcb707"
      },
      "execution_count": null,
      "outputs": [
        {
          "output_type": "stream",
          "name": "stdout",
          "text": [
            "[2.12, 1200, railway, a, capital, 33]\n"
          ]
        }
      ]
    }
  ]
}