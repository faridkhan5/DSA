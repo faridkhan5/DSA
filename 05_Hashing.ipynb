{
  "nbformat": 4,
  "nbformat_minor": 0,
  "metadata": {
    "colab": {
      "provenance": []
    },
    "kernelspec": {
      "name": "python3",
      "display_name": "Python 3"
    },
    "language_info": {
      "name": "python"
    }
  },
  "cells": [
    {
      "cell_type": "markdown",
      "source": [
        "#Hashing with Linear Probing"
      ],
      "metadata": {
        "id": "aqR6VCR_MsBd"
      }
    },
    {
      "cell_type": "code",
      "execution_count": null,
      "metadata": {
        "id": "pr3b1zPXSOaH"
      },
      "outputs": [],
      "source": [
        "class Dictionary:\n",
        "  def __init__(self, size):\n",
        "    self.size = size\n",
        "    self.slots = [None] * self.size\n",
        "    self.data = [None] * self.size\n",
        "\n",
        "  def hash_function(self, key):\n",
        "    return abs(hash(key)) % self.size\n",
        "\n",
        "  def rehash(self, old_hash):\n",
        "    return (old_hash + 1) % self.size\n",
        "\n",
        "  def put(self, key, val):\n",
        "    hash_val = self.hash_function(key)\n",
        "\n",
        "    if self.slots[hash_val] == None:\n",
        "      self.slots[hash_val] = key\n",
        "      self.data[hash_val] = val\n",
        "    else:\n",
        "      if self.slots[hash_val] == key:\n",
        "        #key already exists\n",
        "        self.dat[hash_val] == val\n",
        "\n",
        "      else:\n",
        "        #collision occured\n",
        "        new_hash_val = self.rehash(hash_val)\n",
        "\n",
        "        #keep shifting using hash func until,\n",
        "          # - an empty slot is found\n",
        "          # - key is found\n",
        "        while self.slots[new_hash_val] != None and self.slots[new_hash_val] != key:\n",
        "          new_hash_val = self.rehash(new_hash_val)\n",
        "\n",
        "        if self.slots[new_hash_val] == None:\n",
        "          self.slots[new_hash_val] = key\n",
        "          self.data[new_hash_val] = val\n",
        "        else:\n",
        "          self.data[new_hash_val] = val\n",
        "\n",
        "\n",
        "  def get(self, key):\n",
        "    start = self.hash_function(key)\n",
        "    curr = start\n",
        "\n",
        "    while self.slots[curr] != None:\n",
        "      if self.slots[curr] == key:\n",
        "        return self.data[curr]\n",
        "\n",
        "      curr = self.rehash(curr)\n",
        "\n",
        "      if curr == start:\n",
        "        #1 cycle completed\n",
        "        return 'Not Found'\n",
        "\n",
        "    return 'Not Found'\n",
        "\n",
        "  def __setitem__(self, key, val):\n",
        "    self.put(key, val)\n",
        "\n",
        "  def __getitem__(self, key):\n",
        "    return self.get(key)\n",
        "\n",
        "  def __str__(self):\n",
        "    for i in range(self.size):\n",
        "      if self.slots[i] != None:\n",
        "        print(self.slots[i], ':', self.data[i], end=', ')\n",
        "\n",
        "    return \"\""
      ]
    },
    {
      "cell_type": "code",
      "source": [
        "d1 = Dictionary(5)"
      ],
      "metadata": {
        "id": "23u4HSgTcVox"
      },
      "execution_count": null,
      "outputs": []
    },
    {
      "cell_type": "code",
      "source": [
        "print(d1.slots)\n",
        "print(d1.data)"
      ],
      "metadata": {
        "colab": {
          "base_uri": "https://localhost:8080/"
        },
        "id": "xgoEuFePcidJ",
        "outputId": "71a149b6-8d7b-4c2d-efc6-e277b8002575"
      },
      "execution_count": null,
      "outputs": [
        {
          "output_type": "stream",
          "name": "stdout",
          "text": [
            "[None, None, None, None, None]\n",
            "[None, None, None, None, None]\n"
          ]
        }
      ]
    },
    {
      "cell_type": "code",
      "source": [
        "d1.put('python', 100)\n",
        "d1.put('java', 150)\n",
        "d1.put('c', 300)\n",
        "\n",
        "print(d1.slots)\n",
        "print(d1.data)"
      ],
      "metadata": {
        "colab": {
          "base_uri": "https://localhost:8080/"
        },
        "id": "Sfm6atXxcmFf",
        "outputId": "f9f208cc-8fc2-4fab-9840-50b2b46fc142"
      },
      "execution_count": null,
      "outputs": [
        {
          "output_type": "stream",
          "name": "stdout",
          "text": [
            "['c', 'java', 'python', None, None]\n",
            "[300, 150, 100, None, None]\n"
          ]
        }
      ]
    },
    {
      "cell_type": "code",
      "source": [
        "d1['php'] = 50\n",
        "d1['javascript'] = 80\n",
        "\n",
        "print(d1.slots)\n",
        "print(d1.data)"
      ],
      "metadata": {
        "colab": {
          "base_uri": "https://localhost:8080/"
        },
        "id": "ikfuZR3tc3TN",
        "outputId": "1423205b-37b4-41a5-e3d8-74f6071f5718"
      },
      "execution_count": null,
      "outputs": [
        {
          "output_type": "stream",
          "name": "stdout",
          "text": [
            "['c', 'java', 'python', 'php', 'javascript']\n",
            "[300, 150, 100, 50, 80]\n"
          ]
        }
      ]
    },
    {
      "cell_type": "code",
      "source": [
        "d1.get('python')"
      ],
      "metadata": {
        "id": "Nj9bD1Ghee5g",
        "colab": {
          "base_uri": "https://localhost:8080/"
        },
        "outputId": "f59946ac-9747-4f38-93a2-948f522156ab"
      },
      "execution_count": null,
      "outputs": [
        {
          "output_type": "execute_result",
          "data": {
            "text/plain": [
              "100"
            ]
          },
          "metadata": {},
          "execution_count": 231
        }
      ]
    },
    {
      "cell_type": "code",
      "source": [
        "d1.get('dummy')"
      ],
      "metadata": {
        "colab": {
          "base_uri": "https://localhost:8080/",
          "height": 35
        },
        "id": "Y1ioNLNEIE-O",
        "outputId": "3121a8d2-877d-41a1-e2b1-5befc8f77616"
      },
      "execution_count": null,
      "outputs": [
        {
          "output_type": "execute_result",
          "data": {
            "text/plain": [
              "'Not Found'"
            ],
            "application/vnd.google.colaboratory.intrinsic+json": {
              "type": "string"
            }
          },
          "metadata": {},
          "execution_count": 232
        }
      ]
    },
    {
      "cell_type": "code",
      "source": [
        "d1['javascript']"
      ],
      "metadata": {
        "colab": {
          "base_uri": "https://localhost:8080/"
        },
        "id": "4N5AIthVH9dp",
        "outputId": "ea7b7ce4-0695-419c-8951-598f86d368a7"
      },
      "execution_count": null,
      "outputs": [
        {
          "output_type": "execute_result",
          "data": {
            "text/plain": [
              "80"
            ]
          },
          "metadata": {},
          "execution_count": 233
        }
      ]
    },
    {
      "cell_type": "code",
      "source": [
        "d1['dummy']"
      ],
      "metadata": {
        "colab": {
          "base_uri": "https://localhost:8080/",
          "height": 35
        },
        "id": "0E9SL86JIAQB",
        "outputId": "24be82d0-7668-46ff-acb5-5e229b93d3c8"
      },
      "execution_count": null,
      "outputs": [
        {
          "output_type": "execute_result",
          "data": {
            "text/plain": [
              "'Not Found'"
            ],
            "application/vnd.google.colaboratory.intrinsic+json": {
              "type": "string"
            }
          },
          "metadata": {},
          "execution_count": 234
        }
      ]
    },
    {
      "cell_type": "code",
      "source": [
        "print(d1)"
      ],
      "metadata": {
        "colab": {
          "base_uri": "https://localhost:8080/"
        },
        "id": "6gW5-J3yIIOM",
        "outputId": "e4fbd226-2e48-47c7-97d5-de8e1215ab3d"
      },
      "execution_count": null,
      "outputs": [
        {
          "output_type": "stream",
          "name": "stdout",
          "text": [
            "c : 300, java : 150, python : 100, php : 50, javascript : 80, \n"
          ]
        }
      ]
    },
    {
      "cell_type": "markdown",
      "source": [
        "#Hashing using Chaining"
      ],
      "metadata": {
        "id": "Y5BU9lOrIgUa"
      }
    },
    {
      "cell_type": "code",
      "source": [
        "class Node:\n",
        "  def __init__(self, key, val):\n",
        "    self.key = key\n",
        "    self.val = val\n",
        "    self.next = None"
      ],
      "metadata": {
        "id": "8tHtmOylMEKa"
      },
      "execution_count": null,
      "outputs": []
    },
    {
      "cell_type": "code",
      "source": [
        "class LL:\n",
        "  #Array of LinkedLists\n",
        "  def __init__(self):\n",
        "    #empty LL\n",
        "    self.head = None\n",
        "    self.n = 0\n",
        "\n",
        "\n",
        "  ### INSERTION METHODS\n",
        "\n",
        "  def add(self, key, val):\n",
        "    new_node = Node(key, val)\n",
        "    if self.head == None:\n",
        "      #empty list\n",
        "      self.head = new_node\n",
        "      self.n += 1\n",
        "    else:\n",
        "      #init pointer\n",
        "      curr = self.head\n",
        "      #shift pointer until last node\n",
        "      while curr.next != None:\n",
        "        curr = curr.next\n",
        "      #assign last pointer to new node\n",
        "      curr.next = new_node\n",
        "      self.n += 1\n",
        "\n",
        "\n",
        "  ### DELETION METHODS\n",
        "\n",
        "  def delete_head(self):\n",
        "    if self.head == None:\n",
        "      return 'Empty List'\n",
        "    self.head = self.head.next\n",
        "    self.n = self.n - 1\n",
        "\n",
        "\n",
        "  def remove(self, key):\n",
        "    if self.head.key == key:\n",
        "      self.delete_head()\n",
        "      return\n",
        "\n",
        "    if self.head == None:\n",
        "      #empty list\n",
        "      return 'Empty LL'\n",
        "    else:\n",
        "      curr = self.head\n",
        "\n",
        "      while curr.next != None:\n",
        "        if curr.next.key == key:\n",
        "          curr.next = curr.next.next\n",
        "          self.n -= 1\n",
        "          return\n",
        "        curr = curr.next\n",
        "\n",
        "    return 'Key not found'\n",
        "\n",
        "\n",
        "  ### SEARCH METHODS\n",
        "  def search(self, key):\n",
        "    curr = self.head\n",
        "    pos = 0\n",
        "\n",
        "    while curr != None:\n",
        "      if curr.key == key:\n",
        "        return pos\n",
        "      curr = curr.next\n",
        "      pos += 1\n",
        "\n",
        "    return -1\n",
        "\n",
        "  def get_node_at_idx(self, idx):\n",
        "    curr = self.head\n",
        "    counter = 0\n",
        "\n",
        "    while curr != None:\n",
        "      if counter == idx:\n",
        "        return curr\n",
        "      curr = curr.next\n",
        "      counter += 1\n",
        "\n",
        "\n",
        "  ### MAGIC METHODS\n",
        "  def __len__(self):\n",
        "    return self.n\n",
        "\n",
        "\n",
        "  def __str__(self):\n",
        "    #init pointer\n",
        "    curr = self.head\n",
        "    result = ''\n",
        "\n",
        "    #shift pointer until last node\n",
        "    while curr != None:\n",
        "      print(curr.key, '-->', curr.val, ' ', end=' ')\n",
        "      #move pointer\n",
        "      curr = curr.next\n",
        "    return \"\"\n",
        "\n",
        "\n",
        "  def __getitem__(self, idx):\n",
        "    curr = self.head\n",
        "    pos = 0\n",
        "\n",
        "    while curr != None:\n",
        "      if pos == idx:\n",
        "        return curr.data\n",
        "      curr = curr.next\n",
        "      pos += 1\n",
        "\n",
        "    return 'IndexError'\n"
      ],
      "metadata": {
        "id": "oBtVmsvTLGRK"
      },
      "execution_count": null,
      "outputs": []
    },
    {
      "cell_type": "code",
      "source": [
        "class DictionaryChaining:\n",
        "  def __init__(self, capacity):\n",
        "    self.capacity = capacity\n",
        "    self.size = 0\n",
        "    #create buckets -> Array of LLs\n",
        "    # - each bucket -> LL\n",
        "    self.buckets = self.make_array(self.capacity)\n",
        "\n",
        "  def make_array(self, capacity):\n",
        "    L = []\n",
        "    for i in range(capacity):\n",
        "      L.append(LL())\n",
        "    return L\n",
        "\n",
        "  def put(self, key, val):\n",
        "    bucket_idx = self.hash_function(key)\n",
        "\n",
        "    node_idx = self.get_node_idx(bucket_idx, key)\n",
        "\n",
        "    if node_idx == -1:\n",
        "      #insert\n",
        "      bucket = self.buckets[bucket_idx]\n",
        "      bucket.add(key, val)\n",
        "      self.size += 1\n",
        "\n",
        "      load_factor = self.size / self.capacity\n",
        "\n",
        "      if load_factor >= 2:\n",
        "        self.rehash()\n",
        "\n",
        "    else:\n",
        "      #update\n",
        "      bucket = self.buckets[bucket_idx]\n",
        "      node = bucket.get_node_at_idx(node_idx)\n",
        "      node.val = val\n",
        "\n",
        "\n",
        "  def delete(self, key):\n",
        "    bucket_idx = self.hash_function(key)\n",
        "\n",
        "    self.buckets[bucket_idx].remove(key)\n",
        "    self.size -= 1\n",
        "\n",
        "    if self.size < self.capacity:\n",
        "      self.rehash_downsize()\n",
        "\n",
        "\n",
        "  def get(self, key):\n",
        "    bucket_idx = self.hash_function(key)\n",
        "\n",
        "    res = self.buckets[bucket_idx].search(key)\n",
        "\n",
        "    if res == -1:\n",
        "      return -1\n",
        "    else:\n",
        "      node = self.buckets[bucket_idx].get_node_at_idx(res)\n",
        "      return node.val\n",
        "\n",
        "\n",
        "  def get_node_idx(self, bucket_idx, key):\n",
        "    node_idx = self.buckets[bucket_idx].search(key)\n",
        "    return node_idx\n",
        "\n",
        "\n",
        "  def hash_function(self, key):\n",
        "    return abs(hash(key)) % self.capacity\n",
        "\n",
        "\n",
        "  def rehash(self):\n",
        "    self.capacity = self.capacity*2\n",
        "    old_buckets = self.buckets\n",
        "    self.size = 0\n",
        "    self.buckets = self.make_array(self.capacity)\n",
        "\n",
        "    for bucket in old_buckets:\n",
        "      for j in range(len(bucket)):\n",
        "        node = bucket.get_node_at_idx(j)\n",
        "        key_item = node.key\n",
        "        val_item = node.val\n",
        "        self.put(key_item, val_item)\n",
        "\n",
        "\n",
        "  def rehash_downsize(self):\n",
        "    if self.size == 0:\n",
        "      #zero nodes\n",
        "      return\n",
        "\n",
        "    self.capacity = self.capacity//2\n",
        "\n",
        "    old_buckets = self.buckets\n",
        "    self.size = 0\n",
        "    self.buckets = self.make_array(self.capacity)\n",
        "\n",
        "    for bucket in old_buckets:\n",
        "      for j in range(len(bucket)):\n",
        "        node = bucket.get_node_at_idx(j)\n",
        "        key_item = node.key\n",
        "        val_item = node.val\n",
        "        self.put(key_item, val_item)\n",
        "\n",
        "\n",
        "\n",
        "  def __setitem__(self, key, val):\n",
        "    return self.put(key, val)\n",
        "\n",
        "\n",
        "  def __getitem__(self, key):\n",
        "    return self.get(key)\n",
        "\n",
        "\n",
        "  def __delitem__(self, key):\n",
        "    return self.delete(key)\n",
        "\n",
        "\n",
        "  def __len__(self):\n",
        "    return self.size\n",
        "\n",
        "\n",
        "  def __str__(self):\n",
        "    for i in range(len(d2.buckets)):\n",
        "      print(f\"Bucket {i}:\")\n",
        "      print(self.buckets[i], '\\n')\n",
        "    return \"\""
      ],
      "metadata": {
        "id": "gh_v58IRNh5_"
      },
      "execution_count": null,
      "outputs": []
    },
    {
      "cell_type": "code",
      "source": [
        "d2 = DictionaryChaining(2)"
      ],
      "metadata": {
        "id": "oJgziFLmOsfF"
      },
      "execution_count": null,
      "outputs": []
    },
    {
      "cell_type": "code",
      "source": [
        "d2.put('python', 32)\n",
        "d2.put('java', 20)\n",
        "d2.put('c', 100)"
      ],
      "metadata": {
        "id": "bDoHdB9eXJkR"
      },
      "execution_count": null,
      "outputs": []
    },
    {
      "cell_type": "code",
      "source": [
        "d2.buckets"
      ],
      "metadata": {
        "colab": {
          "base_uri": "https://localhost:8080/"
        },
        "id": "LQeoXLP2XRDO",
        "outputId": "433e6d07-eebe-4caa-ae42-e8615a19b284"
      },
      "execution_count": null,
      "outputs": [
        {
          "output_type": "execute_result",
          "data": {
            "text/plain": [
              "[<__main__.LL at 0x7a1e15e92c80>, <__main__.LL at 0x7a1e15e93220>]"
            ]
          },
          "metadata": {},
          "execution_count": 241
        }
      ]
    },
    {
      "cell_type": "code",
      "source": [
        "print(d2)"
      ],
      "metadata": {
        "colab": {
          "base_uri": "https://localhost:8080/"
        },
        "id": "gv3MtgEbX29-",
        "outputId": "a675501c-cc0a-40ea-9f90-de57fd4aa5fd"
      },
      "execution_count": null,
      "outputs": [
        {
          "output_type": "stream",
          "name": "stdout",
          "text": [
            "Bucket 0:\n",
            "python --> 32   java --> 20   c --> 100    \n",
            "\n",
            "Bucket 1:\n",
            " \n",
            "\n",
            "\n"
          ]
        }
      ]
    },
    {
      "cell_type": "code",
      "source": [
        "len(d2)"
      ],
      "metadata": {
        "colab": {
          "base_uri": "https://localhost:8080/"
        },
        "id": "gDClV455u9yr",
        "outputId": "1a2517fa-0f6c-4289-888e-c61333051ae9"
      },
      "execution_count": null,
      "outputs": [
        {
          "output_type": "execute_result",
          "data": {
            "text/plain": [
              "3"
            ]
          },
          "metadata": {},
          "execution_count": 243
        }
      ]
    },
    {
      "cell_type": "code",
      "source": [
        "d2.put('ruby', 15)"
      ],
      "metadata": {
        "id": "FS5QLRrMk3Ab"
      },
      "execution_count": null,
      "outputs": []
    },
    {
      "cell_type": "code",
      "source": [
        "d2.buckets"
      ],
      "metadata": {
        "colab": {
          "base_uri": "https://localhost:8080/"
        },
        "id": "cSM3Vevrk6l0",
        "outputId": "6999c753-0d9f-4477-e59a-2562e5caa8bd"
      },
      "execution_count": null,
      "outputs": [
        {
          "output_type": "execute_result",
          "data": {
            "text/plain": [
              "[<__main__.LL at 0x7a1e15e928f0>,\n",
              " <__main__.LL at 0x7a1e15e917e0>,\n",
              " <__main__.LL at 0x7a1e15e91120>,\n",
              " <__main__.LL at 0x7a1e15e910f0>]"
            ]
          },
          "metadata": {},
          "execution_count": 245
        }
      ]
    },
    {
      "cell_type": "code",
      "source": [
        "print(d2)"
      ],
      "metadata": {
        "colab": {
          "base_uri": "https://localhost:8080/"
        },
        "id": "0EIkSqSsk7rs",
        "outputId": "05a38279-6e94-46c8-c4aa-d390bd0a8cbd"
      },
      "execution_count": null,
      "outputs": [
        {
          "output_type": "stream",
          "name": "stdout",
          "text": [
            "Bucket 0:\n",
            "python --> 32   java --> 20    \n",
            "\n",
            "Bucket 1:\n",
            "ruby --> 15    \n",
            "\n",
            "Bucket 2:\n",
            "c --> 100    \n",
            "\n",
            "Bucket 3:\n",
            " \n",
            "\n",
            "\n"
          ]
        }
      ]
    },
    {
      "cell_type": "code",
      "source": [
        "len(d2)"
      ],
      "metadata": {
        "colab": {
          "base_uri": "https://localhost:8080/"
        },
        "id": "0dI9CTb6vATU",
        "outputId": "6b4783f7-4cd6-4c72-c21c-1ef2d1e98ac7"
      },
      "execution_count": null,
      "outputs": [
        {
          "output_type": "execute_result",
          "data": {
            "text/plain": [
              "4"
            ]
          },
          "metadata": {},
          "execution_count": 247
        }
      ]
    },
    {
      "cell_type": "code",
      "source": [
        "d2['java']"
      ],
      "metadata": {
        "colab": {
          "base_uri": "https://localhost:8080/"
        },
        "id": "IB8drVMcX5wl",
        "outputId": "16a66a0c-903e-43e7-e9bd-01789ca8a4af"
      },
      "execution_count": null,
      "outputs": [
        {
          "output_type": "execute_result",
          "data": {
            "text/plain": [
              "20"
            ]
          },
          "metadata": {},
          "execution_count": 248
        }
      ]
    },
    {
      "cell_type": "code",
      "source": [
        "d2['abcd']"
      ],
      "metadata": {
        "colab": {
          "base_uri": "https://localhost:8080/"
        },
        "id": "0lOGCbp3Rgb8",
        "outputId": "e7656015-bf3b-4a43-d210-1977d780cf08"
      },
      "execution_count": null,
      "outputs": [
        {
          "output_type": "execute_result",
          "data": {
            "text/plain": [
              "-1"
            ]
          },
          "metadata": {},
          "execution_count": 249
        }
      ]
    },
    {
      "cell_type": "code",
      "source": [
        "del d2['java']\n",
        "print(d2)"
      ],
      "metadata": {
        "id": "U-y0BrsuRlDz",
        "colab": {
          "base_uri": "https://localhost:8080/"
        },
        "outputId": "75b3121b-41a1-4170-d38c-a0aa9fc80fa7"
      },
      "execution_count": null,
      "outputs": [
        {
          "output_type": "stream",
          "name": "stdout",
          "text": [
            "Bucket 0:\n",
            "python --> 32   c --> 100    \n",
            "\n",
            "Bucket 1:\n",
            "ruby --> 15    \n",
            "\n",
            "\n"
          ]
        }
      ]
    },
    {
      "cell_type": "code",
      "source": [
        "d2['java']"
      ],
      "metadata": {
        "colab": {
          "base_uri": "https://localhost:8080/"
        },
        "id": "OKONq2ImfwVF",
        "outputId": "2908f119-0a0f-4d51-bf78-16577cebc5a8"
      },
      "execution_count": null,
      "outputs": [
        {
          "output_type": "execute_result",
          "data": {
            "text/plain": [
              "-1"
            ]
          },
          "metadata": {},
          "execution_count": 251
        }
      ]
    },
    {
      "cell_type": "code",
      "source": [
        "len(d2)"
      ],
      "metadata": {
        "colab": {
          "base_uri": "https://localhost:8080/"
        },
        "id": "Y83xcjJ4aY99",
        "outputId": "3df7e933-27da-4093-a4b9-ffe2d4037306"
      },
      "execution_count": null,
      "outputs": [
        {
          "output_type": "execute_result",
          "data": {
            "text/plain": [
              "3"
            ]
          },
          "metadata": {},
          "execution_count": 252
        }
      ]
    },
    {
      "cell_type": "code",
      "source": [
        "del d2['ruby']\n",
        "print(d2)"
      ],
      "metadata": {
        "id": "93EQP6-9hLUw",
        "colab": {
          "base_uri": "https://localhost:8080/"
        },
        "outputId": "e81b5313-1d34-49c6-88a6-f9447e5d47af"
      },
      "execution_count": null,
      "outputs": [
        {
          "output_type": "stream",
          "name": "stdout",
          "text": [
            "Bucket 0:\n",
            "python --> 32   c --> 100    \n",
            "\n",
            "Bucket 1:\n",
            " \n",
            "\n",
            "\n"
          ]
        }
      ]
    },
    {
      "cell_type": "code",
      "source": [
        "len(d2)"
      ],
      "metadata": {
        "colab": {
          "base_uri": "https://localhost:8080/"
        },
        "id": "_5uQzm7PhO8d",
        "outputId": "d5fb11a2-041f-4501-ce67-11897bb60278"
      },
      "execution_count": null,
      "outputs": [
        {
          "output_type": "execute_result",
          "data": {
            "text/plain": [
              "2"
            ]
          },
          "metadata": {},
          "execution_count": 254
        }
      ]
    },
    {
      "cell_type": "code",
      "source": [
        "del d2['c']\n",
        "print(d2)"
      ],
      "metadata": {
        "id": "-lIyGMNnhYv_",
        "colab": {
          "base_uri": "https://localhost:8080/"
        },
        "outputId": "0cd0660d-933d-41dd-b326-2c37b0326020"
      },
      "execution_count": null,
      "outputs": [
        {
          "output_type": "stream",
          "name": "stdout",
          "text": [
            "Bucket 0:\n",
            "python --> 32    \n",
            "\n",
            "\n"
          ]
        }
      ]
    },
    {
      "cell_type": "code",
      "source": [
        "del d2['python']\n",
        "print(d2)"
      ],
      "metadata": {
        "colab": {
          "base_uri": "https://localhost:8080/"
        },
        "id": "CIqWDdt5toSE",
        "outputId": "5b46e6d5-d20b-4e94-a223-ccc289b60b81"
      },
      "execution_count": null,
      "outputs": [
        {
          "output_type": "stream",
          "name": "stdout",
          "text": [
            "Bucket 0:\n",
            " \n",
            "\n",
            "\n"
          ]
        }
      ]
    },
    {
      "cell_type": "code",
      "source": [
        "d2.put('c++', 300)\n",
        "print(d2)"
      ],
      "metadata": {
        "colab": {
          "base_uri": "https://localhost:8080/"
        },
        "id": "AqsD9OZN9L3g",
        "outputId": "4eeff9d9-7927-4d92-ee1d-9f615adbda7b"
      },
      "execution_count": null,
      "outputs": [
        {
          "output_type": "stream",
          "name": "stdout",
          "text": [
            "Bucket 0:\n",
            "c++ --> 300    \n",
            "\n",
            "\n"
          ]
        }
      ]
    },
    {
      "cell_type": "code",
      "source": [
        "d2.put('excel', 10)\n",
        "d2.put('sql', 30)\n",
        "d2.put('pytorch', 500)\n",
        "print(d2)"
      ],
      "metadata": {
        "colab": {
          "base_uri": "https://localhost:8080/"
        },
        "id": "zfOJ5XzUBIzD",
        "outputId": "49916774-b1e9-4a78-fa0d-9cbf6524a655"
      },
      "execution_count": null,
      "outputs": [
        {
          "output_type": "stream",
          "name": "stdout",
          "text": [
            "Bucket 0:\n",
            "c++ --> 300   sql --> 30    \n",
            "\n",
            "Bucket 1:\n",
            "excel --> 10   pytorch --> 500    \n",
            "\n",
            "Bucket 2:\n",
            " \n",
            "\n",
            "Bucket 3:\n",
            " \n",
            "\n",
            "\n"
          ]
        }
      ]
    }
  ]
}