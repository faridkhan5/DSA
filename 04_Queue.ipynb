{
  "nbformat": 4,
  "nbformat_minor": 0,
  "metadata": {
    "colab": {
      "provenance": []
    },
    "kernelspec": {
      "name": "python3",
      "display_name": "Python 3"
    },
    "language_info": {
      "name": "python"
    }
  },
  "cells": [
    {
      "cell_type": "code",
      "source": [
        "class Node:\n",
        "  def __init__(self, val):\n",
        "    self.data = val\n",
        "    self.next = None"
      ],
      "metadata": {
        "id": "_JYmKwZIBN-S"
      },
      "execution_count": null,
      "outputs": []
    },
    {
      "cell_type": "code",
      "execution_count": null,
      "metadata": {
        "id": "DQw05VvXyQmr"
      },
      "outputs": [],
      "source": [
        "class Queue:\n",
        "  def __init__(self):\n",
        "    #2 pointers\n",
        "    self.front = None\n",
        "    self.rear = None\n",
        "\n",
        "  def enque(self, val):\n",
        "    new_node = Node(val)\n",
        "\n",
        "    #empty queue\n",
        "    if self.rear == None:\n",
        "      self.front = new_node\n",
        "      self.rear = self.front\n",
        "    else:\n",
        "      #change link of last node to new node\n",
        "      self.rear.next = new_node\n",
        "      #shift rear pointer\n",
        "      self.rear = new_node\n",
        "\n",
        "  def deque(self):\n",
        "    if self.front == None:\n",
        "      return 'Empty'\n",
        "    else:\n",
        "      first = self.front.data\n",
        "      self.front = self.front.next\n",
        "      return first\n",
        "\n",
        "  def is_empty(self):\n",
        "    return self.front == None\n",
        "\n",
        "  def size(self):\n",
        "    curr = self.front\n",
        "    counter = 0\n",
        "\n",
        "    while curr != None:\n",
        "      counter += 1\n",
        "      curr = curr.next\n",
        "\n",
        "    return counter\n",
        "\n",
        "\n",
        "  def front_item(self):\n",
        "    if self.front == None:\n",
        "      return 'Empty'\n",
        "    else:\n",
        "      return self.front.data\n",
        "\n",
        "\n",
        "  def rear_item(self):\n",
        "    if self.front == None:\n",
        "      return 'Empty'\n",
        "    else:\n",
        "      return self.rear.data\n",
        "\n",
        "\n",
        "\n",
        "  def traverse(self):\n",
        "    curr = self.front\n",
        "\n",
        "    while curr != None:\n",
        "      print(curr.data, end=' ')\n",
        "      curr = curr.next"
      ]
    },
    {
      "cell_type": "code",
      "source": [
        "q = Queue()"
      ],
      "metadata": {
        "id": "HYjHbz50Eifu"
      },
      "execution_count": null,
      "outputs": []
    },
    {
      "cell_type": "code",
      "source": [
        "q.deque()"
      ],
      "metadata": {
        "colab": {
          "base_uri": "https://localhost:8080/",
          "height": 35
        },
        "id": "lzFN3E7CF-Kd",
        "outputId": "4d570d39-9c9b-4b55-8204-bd58faf6e9af"
      },
      "execution_count": null,
      "outputs": [
        {
          "output_type": "execute_result",
          "data": {
            "text/plain": [
              "'Empty'"
            ],
            "application/vnd.google.colaboratory.intrinsic+json": {
              "type": "string"
            }
          },
          "metadata": {},
          "execution_count": 46
        }
      ]
    },
    {
      "cell_type": "code",
      "source": [
        "q.enque(4)\n",
        "q.enque(5)\n",
        "q.enque(6)\n",
        "q.enque(7)\n",
        "q.enque(8)\n",
        "q.enque(9)\n",
        "q.enque(10)"
      ],
      "metadata": {
        "id": "9cwjlU1mEj7u"
      },
      "execution_count": null,
      "outputs": []
    },
    {
      "cell_type": "code",
      "source": [
        "q.traverse()"
      ],
      "metadata": {
        "colab": {
          "base_uri": "https://localhost:8080/"
        },
        "id": "2KcVpQuVEr3B",
        "outputId": "db16216b-3d82-4907-c57b-2b3325c01977"
      },
      "execution_count": null,
      "outputs": [
        {
          "output_type": "stream",
          "name": "stdout",
          "text": [
            "4 5 6 7 8 9 10 "
          ]
        }
      ]
    },
    {
      "cell_type": "code",
      "source": [
        "q.deque()"
      ],
      "metadata": {
        "colab": {
          "base_uri": "https://localhost:8080/"
        },
        "id": "xeXHWvcAEws4",
        "outputId": "f2d04d58-5017-4307-eeb6-497cecc9aff2"
      },
      "execution_count": null,
      "outputs": [
        {
          "output_type": "execute_result",
          "data": {
            "text/plain": [
              "4"
            ]
          },
          "metadata": {},
          "execution_count": 49
        }
      ]
    },
    {
      "cell_type": "code",
      "source": [
        "q.traverse()"
      ],
      "metadata": {
        "colab": {
          "base_uri": "https://localhost:8080/"
        },
        "id": "OzbCaR7zFDtR",
        "outputId": "eecaa24e-cbf7-4607-d878-c1b17cd76bfa"
      },
      "execution_count": null,
      "outputs": [
        {
          "output_type": "stream",
          "name": "stdout",
          "text": [
            "5 6 7 8 9 10 "
          ]
        }
      ]
    },
    {
      "cell_type": "code",
      "source": [
        "q.front_item()"
      ],
      "metadata": {
        "colab": {
          "base_uri": "https://localhost:8080/"
        },
        "id": "JHBzz1DsF27-",
        "outputId": "b9e73bc8-eb0e-4a3e-c1f2-e808701d487e"
      },
      "execution_count": null,
      "outputs": [
        {
          "output_type": "execute_result",
          "data": {
            "text/plain": [
              "5"
            ]
          },
          "metadata": {},
          "execution_count": 51
        }
      ]
    },
    {
      "cell_type": "code",
      "source": [
        "q.rear_item()"
      ],
      "metadata": {
        "colab": {
          "base_uri": "https://localhost:8080/"
        },
        "id": "eMXIEy2bF5TO",
        "outputId": "0976e4d9-ba1f-4ce5-8ab0-805461dca7d9"
      },
      "execution_count": null,
      "outputs": [
        {
          "output_type": "execute_result",
          "data": {
            "text/plain": [
              "10"
            ]
          },
          "metadata": {},
          "execution_count": 52
        }
      ]
    },
    {
      "cell_type": "markdown",
      "source": [
        "#Exercises"
      ],
      "metadata": {
        "id": "PpwDnP8gZhxm"
      }
    },
    {
      "cell_type": "markdown",
      "source": [
        "##Q1) implement queue opers using 2 stacks"
      ],
      "metadata": {
        "id": "bwmwCr2TZkCK"
      }
    },
    {
      "cell_type": "code",
      "source": [],
      "metadata": {
        "id": "0UWBx2l5ZjiT"
      },
      "execution_count": null,
      "outputs": []
    },
    {
      "cell_type": "markdown",
      "source": [
        "##Q2) predict output of below code"
      ],
      "metadata": {
        "id": "6Fu1x-54ZlsS"
      }
    },
    {
      "cell_type": "code",
      "source": [
        "def fun(num):\n",
        "  if num == 0:\n",
        "    return 0\n",
        "  else:\n",
        "    q2.enque(num%10)\n",
        "    res = fun(num//10)\n",
        "    res = res*10 + q2.deque()\n",
        "    return res"
      ],
      "metadata": {
        "id": "XWbMOJyTZnDc"
      },
      "execution_count": null,
      "outputs": []
    },
    {
      "cell_type": "code",
      "source": [
        "q2 = Queue()\n",
        "fun(12345)"
      ],
      "metadata": {
        "colab": {
          "base_uri": "https://localhost:8080/"
        },
        "id": "N6r-FZRtJVz7",
        "outputId": "3ce26dae-228e-43cf-ea0c-e7404ef41359"
      },
      "execution_count": null,
      "outputs": [
        {
          "output_type": "execute_result",
          "data": {
            "text/plain": [
              "54321"
            ]
          },
          "metadata": {},
          "execution_count": 67
        }
      ]
    }
  ]
}