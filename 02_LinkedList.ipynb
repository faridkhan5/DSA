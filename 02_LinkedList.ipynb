{
  "nbformat": 4,
  "nbformat_minor": 0,
  "metadata": {
    "colab": {
      "provenance": []
    },
    "kernelspec": {
      "name": "python3",
      "display_name": "Python 3"
    },
    "language_info": {
      "name": "python"
    }
  },
  "cells": [
    {
      "cell_type": "code",
      "source": [
        "class Node:\n",
        "  def __init__(self, val):\n",
        "    self.data = val\n",
        "    self.next = None"
      ],
      "metadata": {
        "id": "J67zX0N17Ig3"
      },
      "execution_count": null,
      "outputs": []
    },
    {
      "cell_type": "code",
      "execution_count": null,
      "metadata": {
        "id": "BUxBa_mT5zEC"
      },
      "outputs": [],
      "source": [
        "class LinkedList:\n",
        "\n",
        "  def __init__(self):\n",
        "    #empty LL\n",
        "    self.head = None\n",
        "    #no of nodes in LL\n",
        "    self.n = 0\n",
        "\n",
        "\n",
        "  ### INSERTION METHODS\n",
        "  def insert_head(self, val):\n",
        "    #creation of new node\n",
        "    new_node = Node(val)\n",
        "    #point to curr head\n",
        "    new_node.next = self.head\n",
        "    #reassign head\n",
        "    self.head = new_node\n",
        "    #increment count\n",
        "    self.n = self.n + 1\n",
        "\n",
        "\n",
        "  def append(self, val):\n",
        "    new_node = Node(val)\n",
        "    #empty list\n",
        "    if self.head == None:\n",
        "      self.head = new_node\n",
        "      self.n = self.n + 1\n",
        "    else:\n",
        "      #init pointer\n",
        "      curr = self.head\n",
        "      #shift pointer until last node\n",
        "      while curr.next != None:\n",
        "        #move pointer\n",
        "        curr = curr.next\n",
        "      #assign last pointer to new node\n",
        "      curr.next = new_node\n",
        "      self.n = self.n + 1\n",
        "\n",
        "\n",
        "  def insert_after(self, left, val):\n",
        "    new_node = Node(val)\n",
        "    curr = self.head\n",
        "\n",
        "    #shift pointer until left node\n",
        "    while curr.next != None:\n",
        "      if curr.data == left:\n",
        "        break\n",
        "      curr = curr.next\n",
        "\n",
        "    #left node found check\n",
        "    if curr.next != None:\n",
        "      #insertion\n",
        "      new_node.next = curr.next\n",
        "      curr.next = new_node\n",
        "      self.n = self.n + 1\n",
        "    else:\n",
        "      return 'Item not found'\n",
        "\n",
        "\n",
        "  ### DELETION METHODS\n",
        "  def clear(self):\n",
        "    #similar to reset\n",
        "    self.head = None\n",
        "    self.n = 0\n",
        "\n",
        "\n",
        "  def delete_head(self):\n",
        "    if self.head == None:\n",
        "      return 'Empty List'\n",
        "    self.head = self.head.next\n",
        "    self.n = self.n - 1\n",
        "\n",
        "\n",
        "  def pop(self):\n",
        "    #empty list check\n",
        "    if self.head == None:\n",
        "      return 'Empty LL'\n",
        "\n",
        "    curr = self.head\n",
        "\n",
        "    #only 1 node check\n",
        "    if curr.next == None:\n",
        "      return self.delete_head()\n",
        "\n",
        "    while curr.next.next != None:\n",
        "      curr = curr.next\n",
        "    curr.next = None\n",
        "    self.n = self.n - 1\n",
        "\n",
        "\n",
        "  def remove(self, val):\n",
        "    #empty list check\n",
        "    if self.head == None:\n",
        "      return 'Empty LL'\n",
        "\n",
        "    curr = self.head\n",
        "    #remove 1st node\n",
        "    if curr.data == val:\n",
        "      return self.delete_head()\n",
        "\n",
        "    while curr.next != None:\n",
        "      if curr.next.data == val:\n",
        "        curr.next = curr.next.next\n",
        "        return\n",
        "      curr = curr.next\n",
        "    return 'Value not found'\n",
        "\n",
        "\n",
        "  ### SEARCH METHODS\n",
        "  def search(self, val):\n",
        "    curr = self.head\n",
        "    pos = 0\n",
        "\n",
        "    while curr != None:\n",
        "      if curr.data == val:\n",
        "        return pos\n",
        "      curr = curr.next\n",
        "      pos += 1\n",
        "\n",
        "    return 'Value not found'\n",
        "\n",
        "\n",
        "  ### MAGIC METHODS\n",
        "  def __len__(self):\n",
        "    return self.n\n",
        "\n",
        "\n",
        "  def __str__(self):\n",
        "    #init pointer\n",
        "    curr = self.head\n",
        "    result = ''\n",
        "\n",
        "    #shift pointer until last node\n",
        "    while curr != None:\n",
        "      result = result + str(curr.data) + '->'\n",
        "      #move pointer\n",
        "      curr = curr.next\n",
        "    return result[:-2]\n",
        "\n",
        "\n",
        "  def __getitem__(self, idx):\n",
        "    curr = self.head\n",
        "    pos = 0\n",
        "\n",
        "    while curr != None:\n",
        "      if pos == idx:\n",
        "        return curr.data\n",
        "      curr = curr.next\n",
        "      pos += 1\n",
        "\n",
        "    return 'IndexError'\n"
      ]
    },
    {
      "cell_type": "code",
      "source": [
        "LL = LinkedList()"
      ],
      "metadata": {
        "id": "Qjq7PZsM6eEA"
      },
      "execution_count": null,
      "outputs": []
    },
    {
      "cell_type": "code",
      "source": [
        "LL.insert_head(1)\n",
        "LL.insert_head(2)\n",
        "LL.insert_head(3)\n",
        "LL.insert_head(4)"
      ],
      "metadata": {
        "id": "lFdmZ2cg6spG"
      },
      "execution_count": null,
      "outputs": []
    },
    {
      "cell_type": "code",
      "source": [
        "len(LL)"
      ],
      "metadata": {
        "colab": {
          "base_uri": "https://localhost:8080/"
        },
        "id": "h_zxEuN-7vNW",
        "outputId": "9f4b3575-9418-4cac-dd77-838a4ae186a1"
      },
      "execution_count": null,
      "outputs": [
        {
          "output_type": "execute_result",
          "data": {
            "text/plain": [
              "4"
            ]
          },
          "metadata": {},
          "execution_count": 8
        }
      ]
    },
    {
      "cell_type": "code",
      "source": [
        "print(LL)"
      ],
      "metadata": {
        "colab": {
          "base_uri": "https://localhost:8080/"
        },
        "id": "mmBjg7Mi7wp1",
        "outputId": "75971631-74c8-4b0e-f1d5-deeb6513fc02"
      },
      "execution_count": null,
      "outputs": [
        {
          "output_type": "stream",
          "name": "stdout",
          "text": [
            "4->3->2->1\n"
          ]
        }
      ]
    },
    {
      "cell_type": "code",
      "source": [
        "LL.append(5)\n",
        "print(LL)"
      ],
      "metadata": {
        "colab": {
          "base_uri": "https://localhost:8080/"
        },
        "id": "JlBgEaV28w9x",
        "outputId": "a8b5986c-56b5-4801-9962-293d199b9abe"
      },
      "execution_count": null,
      "outputs": [
        {
          "output_type": "stream",
          "name": "stdout",
          "text": [
            "4->3->2->1->5\n"
          ]
        }
      ]
    },
    {
      "cell_type": "code",
      "source": [
        "LL.append(21)\n",
        "LL.append(3)\n",
        "LL.append(13)\n",
        "LL.append(7)\n",
        "print(LL)"
      ],
      "metadata": {
        "colab": {
          "base_uri": "https://localhost:8080/"
        },
        "id": "BX4G5AwwIt4R",
        "outputId": "5d532305-e5e2-4abd-8617-ad2d8418d2f1"
      },
      "execution_count": null,
      "outputs": [
        {
          "output_type": "stream",
          "name": "stdout",
          "text": [
            "4->3->2->1->5->21->3->13->7\n"
          ]
        }
      ]
    },
    {
      "cell_type": "code",
      "source": [
        "LL.insert_after(2, 500)\n",
        "LL.insert_after(500, 123)\n",
        "LL.insert_after(100, 32)"
      ],
      "metadata": {
        "colab": {
          "base_uri": "https://localhost:8080/",
          "height": 35
        },
        "id": "W86vgjZxsQAb",
        "outputId": "9b32c98f-9df6-4fab-9593-780005888804"
      },
      "execution_count": null,
      "outputs": [
        {
          "output_type": "execute_result",
          "data": {
            "text/plain": [
              "'Item not found'"
            ],
            "application/vnd.google.colaboratory.intrinsic+json": {
              "type": "string"
            }
          },
          "metadata": {},
          "execution_count": 12
        }
      ]
    },
    {
      "cell_type": "code",
      "source": [
        "print(LL)"
      ],
      "metadata": {
        "colab": {
          "base_uri": "https://localhost:8080/"
        },
        "id": "s_JkF2DuuCHi",
        "outputId": "54bee536-cb6e-4b98-ae8b-94431eddfcc0"
      },
      "execution_count": null,
      "outputs": [
        {
          "output_type": "stream",
          "name": "stdout",
          "text": [
            "4->3->2->500->123->1->5->21->3->13->7\n"
          ]
        }
      ]
    },
    {
      "cell_type": "code",
      "source": [
        "LL.delete_head()\n",
        "print(LL)"
      ],
      "metadata": {
        "colab": {
          "base_uri": "https://localhost:8080/"
        },
        "id": "7T_QAOwdGU55",
        "outputId": "f95608ca-dd2a-4131-8095-915b4cfb7ca3"
      },
      "execution_count": null,
      "outputs": [
        {
          "output_type": "stream",
          "name": "stdout",
          "text": [
            "3->2->500->123->1->5->21->3->13->7\n"
          ]
        }
      ]
    },
    {
      "cell_type": "code",
      "source": [
        "LL.pop()\n",
        "print(LL)"
      ],
      "metadata": {
        "colab": {
          "base_uri": "https://localhost:8080/"
        },
        "id": "3e2RxxY_MDNw",
        "outputId": "c65a2662-0a4e-4ec6-edf0-33c530e0cdbe"
      },
      "execution_count": null,
      "outputs": [
        {
          "output_type": "stream",
          "name": "stdout",
          "text": [
            "3->2->500->123->1->5->21->3->13\n"
          ]
        }
      ]
    },
    {
      "cell_type": "code",
      "source": [
        "LL2 = LinkedList()\n",
        "LL2.append(2)\n",
        "LL2.pop()\n",
        "print(LL2)\n",
        "LL2.pop()"
      ],
      "metadata": {
        "colab": {
          "base_uri": "https://localhost:8080/",
          "height": 52
        },
        "id": "FA8RpVnFMFIs",
        "outputId": "5eca5555-b1aa-4a1b-a6db-bf664e978f05"
      },
      "execution_count": null,
      "outputs": [
        {
          "output_type": "stream",
          "name": "stdout",
          "text": [
            "\n"
          ]
        },
        {
          "output_type": "execute_result",
          "data": {
            "text/plain": [
              "'Empty LL'"
            ],
            "application/vnd.google.colaboratory.intrinsic+json": {
              "type": "string"
            }
          },
          "metadata": {},
          "execution_count": 16
        }
      ]
    },
    {
      "cell_type": "code",
      "source": [
        "LL.remove(123)\n",
        "print(LL)\n",
        "LL.remove(13)\n",
        "print(LL)\n",
        "LL.remove(3)\n",
        "print(LL)\n",
        "LL.remove(1000)"
      ],
      "metadata": {
        "colab": {
          "base_uri": "https://localhost:8080/",
          "height": 87
        },
        "id": "utOaLUw_M-fP",
        "outputId": "e25c9d03-fb8e-4671-dc28-be7a9159c7bb"
      },
      "execution_count": null,
      "outputs": [
        {
          "output_type": "stream",
          "name": "stdout",
          "text": [
            "3->2->500->1->5->21->3->13\n",
            "3->2->500->1->5->21->3\n",
            "2->500->1->5->21->3\n"
          ]
        },
        {
          "output_type": "execute_result",
          "data": {
            "text/plain": [
              "'Value not found'"
            ],
            "application/vnd.google.colaboratory.intrinsic+json": {
              "type": "string"
            }
          },
          "metadata": {},
          "execution_count": 17
        }
      ]
    },
    {
      "cell_type": "code",
      "source": [
        "print(LL)\n",
        "print(LL.search(500))\n",
        "print(LL.search(3))\n",
        "print(LL.search(2))\n",
        "print(LL.search(444))"
      ],
      "metadata": {
        "colab": {
          "base_uri": "https://localhost:8080/"
        },
        "id": "kFlEnG11VIFm",
        "outputId": "78a1c470-bb27-428b-cd5c-1dac10d7fc58"
      },
      "execution_count": null,
      "outputs": [
        {
          "output_type": "stream",
          "name": "stdout",
          "text": [
            "2->500->1->5->21->3\n",
            "1\n",
            "5\n",
            "0\n",
            "Value not found\n"
          ]
        }
      ]
    },
    {
      "cell_type": "code",
      "source": [
        "print(LL[3])\n",
        "print(LL[123])"
      ],
      "metadata": {
        "colab": {
          "base_uri": "https://localhost:8080/"
        },
        "id": "2JULK33SZyLh",
        "outputId": "3e8842e6-2a30-40c7-d73b-0cfe6b57c929"
      },
      "execution_count": null,
      "outputs": [
        {
          "output_type": "stream",
          "name": "stdout",
          "text": [
            "5\n",
            "IndexError\n"
          ]
        }
      ]
    },
    {
      "cell_type": "markdown",
      "source": [
        "#Exercises"
      ],
      "metadata": {
        "id": "zbAvR-roRg4N"
      }
    },
    {
      "cell_type": "markdown",
      "source": [
        "##Q1) find output without running code"
      ],
      "metadata": {
        "id": "xumrhsWfRkdC"
      }
    },
    {
      "cell_type": "code",
      "source": [
        "LL = LinkedList()\n",
        "LL.append(1)\n",
        "LL.append(2)\n",
        "LL.append(3)\n",
        "LL.append(4)\n",
        "LL.append(5)\n",
        "print(LL)"
      ],
      "metadata": {
        "colab": {
          "base_uri": "https://localhost:8080/"
        },
        "id": "CPy0eSvxRsQi",
        "outputId": "f96ab9a4-2bec-4555-98e1-260c6c35c96b"
      },
      "execution_count": null,
      "outputs": [
        {
          "output_type": "stream",
          "name": "stdout",
          "text": [
            "1->2->3->4->5\n"
          ]
        }
      ]
    },
    {
      "cell_type": "code",
      "source": [
        "def fun(head):\n",
        "  if head == None:\n",
        "    return\n",
        "  if head.next.next != None:\n",
        "    print(head.data, \"\", end=\"\")\n",
        "    fun(head.next)\n",
        "  print(head.data, \"\", end=\"\")"
      ],
      "metadata": {
        "id": "Y_hxARSYa9NX"
      },
      "execution_count": null,
      "outputs": []
    },
    {
      "cell_type": "code",
      "source": [
        "fun(LL.head)"
      ],
      "metadata": {
        "colab": {
          "base_uri": "https://localhost:8080/"
        },
        "id": "HylseoMvSHyf",
        "outputId": "7d8cb2aa-2ace-4871-a4c6-890fd64b9ab0"
      },
      "execution_count": null,
      "outputs": [
        {
          "output_type": "stream",
          "name": "stdout",
          "text": [
            "1 2 3 4 3 2 1 "
          ]
        }
      ]
    },
    {
      "cell_type": "markdown",
      "source": [
        "##Q2) find max and replace it with given val"
      ],
      "metadata": {
        "id": "eDtScs_sSZQD"
      }
    },
    {
      "cell_type": "code",
      "source": [
        "def replace_max(LL, val):\n",
        "  curr = LL.head\n",
        "  max_pointer = curr\n",
        "\n",
        "  while curr != None:\n",
        "    if curr.data > max_pointer.data:\n",
        "      max_pointer = curr\n",
        "    curr = curr.next\n",
        "\n",
        "  max_pointer.data = val\n",
        "  print(LL)"
      ],
      "metadata": {
        "id": "bi--0vVBSStv"
      },
      "execution_count": null,
      "outputs": []
    },
    {
      "cell_type": "code",
      "source": [
        "LL.insert_after(3, 15)\n",
        "LL.insert_after(15, 11)\n",
        "LL.insert_after(11, 7)\n",
        "print(LL)"
      ],
      "metadata": {
        "colab": {
          "base_uri": "https://localhost:8080/"
        },
        "id": "-QqX0NR3WAWu",
        "outputId": "e2252273-e5f3-448f-eda0-60b26f70e3b1"
      },
      "execution_count": null,
      "outputs": [
        {
          "output_type": "stream",
          "name": "stdout",
          "text": [
            "1->2->3->15->11->7->4->5\n"
          ]
        }
      ]
    },
    {
      "cell_type": "code",
      "source": [
        "replace_max(LL, 8)"
      ],
      "metadata": {
        "colab": {
          "base_uri": "https://localhost:8080/"
        },
        "id": "fMZ4Qk6YV51f",
        "outputId": "f7dd7a0a-7bb0-4b19-869b-e917bc180f55"
      },
      "execution_count": null,
      "outputs": [
        {
          "output_type": "stream",
          "name": "stdout",
          "text": [
            "1->2->3->8->11->7->4->5\n"
          ]
        }
      ]
    },
    {
      "cell_type": "code",
      "source": [
        "replace_max(LL, 17)"
      ],
      "metadata": {
        "colab": {
          "base_uri": "https://localhost:8080/"
        },
        "id": "PpREA7hIWDBl",
        "outputId": "2c351482-ba8b-4619-cd29-7d17922c4bba"
      },
      "execution_count": null,
      "outputs": [
        {
          "output_type": "stream",
          "name": "stdout",
          "text": [
            "1->2->3->8->17->7->4->5\n"
          ]
        }
      ]
    },
    {
      "cell_type": "markdown",
      "source": [
        "##Q3) sum of odd indices"
      ],
      "metadata": {
        "id": "24dSxPaIfRVF"
      }
    },
    {
      "cell_type": "code",
      "source": [
        "def sum_odd_indices(LL):\n",
        "  curr = LL.head\n",
        "  idx = 0\n",
        "  sum = 0\n",
        "\n",
        "  while curr != None:\n",
        "    if idx%2 != 0:\n",
        "      sum += curr.data\n",
        "    curr = curr.next\n",
        "    idx += 1\n",
        "\n",
        "  return sum"
      ],
      "metadata": {
        "id": "OL2t6JFFfMp7"
      },
      "execution_count": null,
      "outputs": []
    },
    {
      "cell_type": "code",
      "source": [
        "print(LL)"
      ],
      "metadata": {
        "colab": {
          "base_uri": "https://localhost:8080/"
        },
        "id": "Q_J4X8mgftrG",
        "outputId": "c160f807-fd1f-4658-8019-dcf714609ab8"
      },
      "execution_count": null,
      "outputs": [
        {
          "output_type": "stream",
          "name": "stdout",
          "text": [
            "1->2->3->8->17->7->4->5\n"
          ]
        }
      ]
    },
    {
      "cell_type": "code",
      "source": [
        "print(sum_odd_indices(LL))"
      ],
      "metadata": {
        "colab": {
          "base_uri": "https://localhost:8080/"
        },
        "id": "KcR9-Reqfule",
        "outputId": "a9335b7c-37e4-45fb-f06e-1ade58b7e044"
      },
      "execution_count": null,
      "outputs": [
        {
          "output_type": "stream",
          "name": "stdout",
          "text": [
            "22\n"
          ]
        }
      ]
    },
    {
      "cell_type": "markdown",
      "source": [
        "##Q4) in-place reversal of a LL"
      ],
      "metadata": {
        "id": "8lZmLMk9ktal"
      }
    },
    {
      "cell_type": "code",
      "source": [
        "def reverse(LL):\n",
        "  #None->1->2->3->Null\n",
        "  prev = None\n",
        "  curr = LL.head\n",
        "\n",
        "  while curr != None:\n",
        "    #temp pointer to avoid losing connection\n",
        "    next = curr.next #2\n",
        "\n",
        "    #changing direction of link to prev node\n",
        "    curr.next = prev\n",
        "\n",
        "    prev = curr\n",
        "    curr = next\n",
        "\n",
        "  #since final curr -> Null\n",
        "  LL.head = prev"
      ],
      "metadata": {
        "id": "sj3_7wNSfxmE"
      },
      "execution_count": null,
      "outputs": []
    },
    {
      "cell_type": "code",
      "source": [
        "print(LL)\n",
        "reverse(LL)\n",
        "print('\\nreversed list:')\n",
        "print(LL)"
      ],
      "metadata": {
        "colab": {
          "base_uri": "https://localhost:8080/"
        },
        "id": "nGIsbx2TgNbI",
        "outputId": "598a0cee-1655-402f-957b-2a0dfe5f3dcd"
      },
      "execution_count": null,
      "outputs": [
        {
          "output_type": "stream",
          "name": "stdout",
          "text": [
            "1->2->3->8->17->7->4->5\n",
            "\n",
            "reversed list:\n",
            "5->4->7->17->8->3->2->1\n"
          ]
        }
      ]
    },
    {
      "cell_type": "markdown",
      "source": [
        "##Q4) Replace chars with the given rules\n",
        "Rules:\n",
        "1. replace '*' or '/' with space\n",
        "2. replace consecutive occurences of '*' or '/' with space and capitalize the next char\n",
        "\n",
        "*inp:* The/\\*sky\\*is//blue\n",
        "\n",
        "*output:* The Sky is Blue"
      ],
      "metadata": {
        "id": "Hq8IRPwSTtCA"
      }
    },
    {
      "cell_type": "code",
      "source": [
        "def replace_chars_with_space(LL):\n",
        "  chars = ['*', '/']\n",
        "  curr = LL.head\n",
        "\n",
        "  while curr.next != None:\n",
        "    if curr.data in chars:\n",
        "      #case 1: consecutive chars\n",
        "      if curr.next.data in chars:\n",
        "        curr.data = ' '\n",
        "        curr.next = curr.next.next\n",
        "        #capitalize the next char\n",
        "        curr.next.data = curr.next.data.upper()\n",
        "\n",
        "      #case 2: single occurence char\n",
        "      else:\n",
        "        #replace with a space\n",
        "        curr.data = ' '\n",
        "\n",
        "    curr = curr.next"
      ],
      "metadata": {
        "id": "KhXEBr9-gStk"
      },
      "execution_count": null,
      "outputs": []
    },
    {
      "cell_type": "code",
      "source": [
        "chars_LL = LinkedList()\n",
        "chars_LL.append('T')\n",
        "chars_LL.append('h')\n",
        "chars_LL.append('e')\n",
        "chars_LL.append('*')\n",
        "chars_LL.append('/')\n",
        "chars_LL.append('s')\n",
        "chars_LL.append('k')\n",
        "chars_LL.append('y')\n",
        "chars_LL.append('*')\n",
        "chars_LL.append('i')\n",
        "chars_LL.append('s')\n",
        "chars_LL.append('/')\n",
        "chars_LL.append('/')\n",
        "chars_LL.append('b')\n",
        "chars_LL.append('l')\n",
        "chars_LL.append('u')\n",
        "chars_LL.append('e')\n",
        "print(chars_LL)"
      ],
      "metadata": {
        "colab": {
          "base_uri": "https://localhost:8080/"
        },
        "id": "Kb0b8Xr0XdbK",
        "outputId": "fd5c3540-9393-459d-fc65-24c82dc0b105"
      },
      "execution_count": null,
      "outputs": [
        {
          "output_type": "stream",
          "name": "stdout",
          "text": [
            "T->h->e->*->/->s->k->y->*->i->s->/->/->b->l->u->e\n"
          ]
        }
      ]
    },
    {
      "cell_type": "code",
      "source": [
        "replace_chars_with_space(chars_LL)\n",
        "print(chars_LL)"
      ],
      "metadata": {
        "colab": {
          "base_uri": "https://localhost:8080/"
        },
        "id": "80NDsfDlX5VN",
        "outputId": "99d7f8fc-5e94-4051-f7a5-74b85e7d5da2"
      },
      "execution_count": null,
      "outputs": [
        {
          "output_type": "stream",
          "name": "stdout",
          "text": [
            "T->h->e-> ->S->k->y-> ->i->s-> ->B->l->u->e\n"
          ]
        }
      ]
    }
  ]
}