{
  "nbformat": 4,
  "nbformat_minor": 0,
  "metadata": {
    "colab": {
      "provenance": []
    },
    "kernelspec": {
      "name": "python3",
      "display_name": "Python 3"
    },
    "language_info": {
      "name": "python"
    }
  },
  "cells": [
    {
      "cell_type": "code",
      "source": [
        "class Node:\n",
        "  def __init__(self, val):\n",
        "    self.data = val\n",
        "    self.next = None"
      ],
      "metadata": {
        "id": "4CFW2xdUdSvd"
      },
      "execution_count": null,
      "outputs": []
    },
    {
      "cell_type": "code",
      "execution_count": null,
      "metadata": {
        "id": "aQV2gY_gx1fU"
      },
      "outputs": [],
      "source": [
        "class Stack:\n",
        "  def __init__(self):\n",
        "    self.top = None\n",
        "    self.n = 0\n",
        "\n",
        "  def is_empty(self):\n",
        "    return self.top == None\n",
        "\n",
        "  def push(self, val):\n",
        "    new_node = Node(val)\n",
        "    new_node.next = self.top\n",
        "    self.top = new_node\n",
        "    self.n += 1\n",
        "\n",
        "  def peek(self):\n",
        "    if self.is_empty():\n",
        "      return \"Stack Empty\"\n",
        "    else:\n",
        "      return self.top.data\n",
        "\n",
        "  def pop(self):\n",
        "    if self.is_empty():\n",
        "      return \"Stack Empty\"\n",
        "    else:\n",
        "      popped = self.top.data\n",
        "      self.top = self.top.next\n",
        "      self.n -= 1\n",
        "      return popped\n",
        "\n",
        "  def traverse(self):\n",
        "    curr = self.top\n",
        "    while curr != None:\n",
        "      print(curr.data)\n",
        "      curr = curr.next\n",
        "\n",
        "  def __len__(self):\n",
        "    return self.n"
      ]
    },
    {
      "cell_type": "code",
      "source": [
        "class StackArray:\n",
        "  def __init__(self, size):\n",
        "    self.size = size\n",
        "    self.stack = [None] * self.size\n",
        "    self.top = -1\n",
        "\n",
        "  def push(self, val):\n",
        "    if self.top == self.size - 1:\n",
        "      return 'Overflow'\n",
        "    else:\n",
        "      self.top += 1\n",
        "      self.stack[self.top] = val\n",
        "\n",
        "  def pop(self):\n",
        "    if self.top == -1:\n",
        "      return 'Empty'\n",
        "    else:\n",
        "      data = self.stack[self.top]\n",
        "      self.top -= 1\n",
        "      print(data)\n",
        "\n",
        "  def traverse(self):\n",
        "    for i in range(self.top + 1):\n",
        "      print(self.stack[i])"
      ],
      "metadata": {
        "id": "5LVPw43R-T1P"
      },
      "execution_count": null,
      "outputs": []
    },
    {
      "cell_type": "code",
      "source": [
        "stk = Stack()"
      ],
      "metadata": {
        "id": "d0Uummp9yd-2"
      },
      "execution_count": null,
      "outputs": []
    },
    {
      "cell_type": "code",
      "source": [
        "stk.is_empty()"
      ],
      "metadata": {
        "colab": {
          "base_uri": "https://localhost:8080/"
        },
        "id": "hvECrDSpeEuG",
        "outputId": "809188a9-3f9b-45d6-aa04-ec8f77725d6c"
      },
      "execution_count": null,
      "outputs": [
        {
          "output_type": "execute_result",
          "data": {
            "text/plain": [
              "True"
            ]
          },
          "metadata": {},
          "execution_count": 21
        }
      ]
    },
    {
      "cell_type": "code",
      "source": [
        "stk.push(1)\n",
        "stk.push(2)\n",
        "stk.push(3)\n",
        "stk.push(4)"
      ],
      "metadata": {
        "id": "sed_CPvpeKun"
      },
      "execution_count": null,
      "outputs": []
    },
    {
      "cell_type": "code",
      "source": [
        "stk.is_empty()"
      ],
      "metadata": {
        "colab": {
          "base_uri": "https://localhost:8080/"
        },
        "id": "dBNN395FeQc1",
        "outputId": "f935ecb6-91de-4138-d969-ed4155122908"
      },
      "execution_count": null,
      "outputs": [
        {
          "output_type": "execute_result",
          "data": {
            "text/plain": [
              "False"
            ]
          },
          "metadata": {},
          "execution_count": 23
        }
      ]
    },
    {
      "cell_type": "code",
      "source": [
        "stk.traverse()"
      ],
      "metadata": {
        "colab": {
          "base_uri": "https://localhost:8080/"
        },
        "id": "Mjwlc3DjeRU2",
        "outputId": "717cd24b-15bf-44df-c808-265d0d6fa785"
      },
      "execution_count": null,
      "outputs": [
        {
          "output_type": "stream",
          "name": "stdout",
          "text": [
            "4\n",
            "3\n",
            "2\n",
            "1\n"
          ]
        }
      ]
    },
    {
      "cell_type": "code",
      "source": [
        "stk.peek()"
      ],
      "metadata": {
        "colab": {
          "base_uri": "https://localhost:8080/"
        },
        "id": "ywXx-vd4eSdA",
        "outputId": "db79bd7a-f83a-4ad4-b8f4-ac8b0515d9c3"
      },
      "execution_count": null,
      "outputs": [
        {
          "output_type": "execute_result",
          "data": {
            "text/plain": [
              "4"
            ]
          },
          "metadata": {},
          "execution_count": 25
        }
      ]
    },
    {
      "cell_type": "code",
      "source": [
        "len(stk)"
      ],
      "metadata": {
        "colab": {
          "base_uri": "https://localhost:8080/"
        },
        "id": "w1tAVQF3tCXq",
        "outputId": "3869f12a-dd42-401f-a245-8510718a09a5"
      },
      "execution_count": null,
      "outputs": [
        {
          "output_type": "execute_result",
          "data": {
            "text/plain": [
              "4"
            ]
          },
          "metadata": {},
          "execution_count": 26
        }
      ]
    },
    {
      "cell_type": "code",
      "source": [
        "stk.pop()"
      ],
      "metadata": {
        "colab": {
          "base_uri": "https://localhost:8080/"
        },
        "id": "kXlkyEuhlK2l",
        "outputId": "1527f528-5242-4fc6-db09-95fdbbeb0de0"
      },
      "execution_count": null,
      "outputs": [
        {
          "output_type": "execute_result",
          "data": {
            "text/plain": [
              "4"
            ]
          },
          "metadata": {},
          "execution_count": 27
        }
      ]
    },
    {
      "cell_type": "code",
      "source": [
        "len(stk)"
      ],
      "metadata": {
        "colab": {
          "base_uri": "https://localhost:8080/"
        },
        "id": "ePBkV9nYtHGL",
        "outputId": "eb579642-3322-4c71-e455-1265ef9cd1ac"
      },
      "execution_count": null,
      "outputs": [
        {
          "output_type": "execute_result",
          "data": {
            "text/plain": [
              "3"
            ]
          },
          "metadata": {},
          "execution_count": 28
        }
      ]
    },
    {
      "cell_type": "code",
      "source": [
        "stk.traverse()"
      ],
      "metadata": {
        "colab": {
          "base_uri": "https://localhost:8080/"
        },
        "id": "EoqQFwmooggI",
        "outputId": "c27567f2-8962-4c28-dbb5-3bda665cd02c"
      },
      "execution_count": null,
      "outputs": [
        {
          "output_type": "stream",
          "name": "stdout",
          "text": [
            "3\n",
            "2\n",
            "1\n"
          ]
        }
      ]
    },
    {
      "cell_type": "markdown",
      "source": [
        "#Exercises"
      ],
      "metadata": {
        "id": "9S53Y01plnx3"
      }
    },
    {
      "cell_type": "markdown",
      "source": [
        "##Q1) string reversal using stack"
      ],
      "metadata": {
        "id": "LNCZDoYJlXQB"
      }
    },
    {
      "cell_type": "code",
      "source": [
        "def reverse_using_stack(text):\n",
        "  stk = Stack()\n",
        "\n",
        "  for t in text:\n",
        "    stk.push(t)\n",
        "\n",
        "  res = \"\"\n",
        "\n",
        "  while not stk.is_empty():\n",
        "    res = res + stk.pop()\n",
        "\n",
        "  return res"
      ],
      "metadata": {
        "id": "9ypJw7qKlr4R"
      },
      "execution_count": null,
      "outputs": []
    },
    {
      "cell_type": "code",
      "source": [
        "text = 'abcdefgh'"
      ],
      "metadata": {
        "id": "epiQ6kEBm8n3"
      },
      "execution_count": null,
      "outputs": []
    },
    {
      "cell_type": "code",
      "source": [
        "print(reverse_using_stack(text))"
      ],
      "metadata": {
        "colab": {
          "base_uri": "https://localhost:8080/"
        },
        "id": "ZKUPj6nwnHne",
        "outputId": "d40d6f26-ae94-4a91-a6d5-885a1a065a3d"
      },
      "execution_count": null,
      "outputs": [
        {
          "output_type": "stream",
          "name": "stdout",
          "text": [
            "hgfedcba\n"
          ]
        }
      ]
    },
    {
      "cell_type": "markdown",
      "source": [
        "##Q2) text editor with undo and redo opers"
      ],
      "metadata": {
        "id": "Zb4BuxKpNfXB"
      }
    },
    {
      "cell_type": "code",
      "source": [
        "def text_editor(text, opers):\n",
        "  #maintain 2 stacks\n",
        "  u = Stack()\n",
        "  r = Stack()\n",
        "\n",
        "  for i in text:\n",
        "    u.push(i)\n",
        "\n",
        "  for i in opers:\n",
        "    if i == 'u':\n",
        "      data = u.pop()\n",
        "      r.push(data)\n",
        "\n",
        "    else:\n",
        "      data = r.pop()\n",
        "      u.push(data)\n",
        "\n",
        "  res = ''\n",
        "\n",
        "  while not u.is_empty():\n",
        "    res = u.pop() + res\n",
        "\n",
        "  print(res)"
      ],
      "metadata": {
        "id": "xTKASfk_nSd3"
      },
      "execution_count": null,
      "outputs": []
    },
    {
      "cell_type": "code",
      "source": [
        "text_editor(\"Kolkata\", \"uurruruu\")"
      ],
      "metadata": {
        "colab": {
          "base_uri": "https://localhost:8080/"
        },
        "id": "-I6QOb_POczb",
        "outputId": "b6c4035e-ea9e-419f-e6fe-8919ebfc3bc2"
      },
      "execution_count": null,
      "outputs": [
        {
          "output_type": "stream",
          "name": "stdout",
          "text": [
            "Kolka\n"
          ]
        }
      ]
    },
    {
      "cell_type": "markdown",
      "source": [
        "#Q3) celebrity prob\n",
        "celeb should satisfy 2 conds:\n",
        "\n",
        "  >1) should be known by all other persons\n",
        "  \n",
        "  >2) should not know any other person"
      ],
      "metadata": {
        "id": "NAoBAw1HVNUo"
      }
    },
    {
      "cell_type": "code",
      "source": [
        "def find_celeb(Mat):\n",
        "  #1. remove non-celebs\n",
        "  stk = Stack()\n",
        "\n",
        "  for i in range(len(Mat)):\n",
        "    stk.push(i)\n",
        "\n",
        "  while len(stk) >= 2:\n",
        "    i = stk.pop()\n",
        "    j = stk.pop()\n",
        "\n",
        "    if Mat[i][j] == 0:\n",
        "      #j is not a celeb\n",
        "      stk.push(i)\n",
        "    else:\n",
        "      #i is not a celeb\n",
        "      stk.push(j)\n",
        "\n",
        "  celeb = stk.pop()\n",
        "\n",
        "  #2. check if remaining person is a celeb\n",
        "  for i in range(len(Mat)):\n",
        "    if i != celeb:\n",
        "      if Mat[i][celeb] == 0 or Mat[celeb][i] == 1:\n",
        "        return 'No one is a celebrity'\n",
        "\n",
        "  return f'celebrity is {celeb}'"
      ],
      "metadata": {
        "id": "2OX9X_y3OkXr"
      },
      "execution_count": null,
      "outputs": []
    },
    {
      "cell_type": "code",
      "source": [
        "A = [\n",
        "    [0, 0, 1, 1],\n",
        "    [0, 0, 1, 0],\n",
        "    [0, 0, 0, 0],\n",
        "    [0, 0, 1, 0]\n",
        "]"
      ],
      "metadata": {
        "id": "39rwbNoeXZpK"
      },
      "execution_count": null,
      "outputs": []
    },
    {
      "cell_type": "code",
      "source": [
        "print(find_celeb(A))"
      ],
      "metadata": {
        "id": "X5_GCN0NZR-r",
        "outputId": "5cb55fd6-483e-4adf-f6ea-87b02106280e",
        "colab": {
          "base_uri": "https://localhost:8080/"
        }
      },
      "execution_count": null,
      "outputs": [
        {
          "output_type": "stream",
          "name": "stdout",
          "text": [
            "celebrity is 2\n"
          ]
        }
      ]
    },
    {
      "cell_type": "markdown",
      "source": [
        "##Q4) brackets match problem"
      ],
      "metadata": {
        "id": "YW61D2eAv2YL"
      }
    },
    {
      "cell_type": "code",
      "source": [
        "def brackets_match(text):\n",
        "  stk = Stack()\n",
        "  bracs = {\n",
        "      ')': '(',\n",
        "      ']': '[',\n",
        "      '}': '{'\n",
        "  }\n",
        "\n",
        "  for i in text:\n",
        "    if i in bracs.values():\n",
        "      stk.push(i)\n",
        "    elif i in bracs:\n",
        "      top = stk.peek()\n",
        "      #if last opening brack is matching current closing brac\n",
        "      if top == bracs[i]:\n",
        "        stk.pop()\n",
        "      else:\n",
        "        return 'brackets not matching'\n",
        "\n",
        "  if len(stk) > 0:\n",
        "    return 'brackets not matching'\n",
        "  else:\n",
        "    return 'brackets matching'\n"
      ],
      "metadata": {
        "id": "55qzcrCvZUNa"
      },
      "execution_count": null,
      "outputs": []
    },
    {
      "cell_type": "code",
      "source": [
        "t = \"(Hello{World}(Goodbye))\"\n",
        "print(brackets_match(t))"
      ],
      "metadata": {
        "colab": {
          "base_uri": "https://localhost:8080/"
        },
        "id": "xUaMl4UzyXFN",
        "outputId": "bde7e85c-d84b-4587-8915-537859143922"
      },
      "execution_count": null,
      "outputs": [
        {
          "output_type": "stream",
          "name": "stdout",
          "text": [
            "brackets matching\n"
          ]
        }
      ]
    }
  ]
}